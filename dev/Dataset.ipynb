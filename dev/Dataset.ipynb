{
 "cells": [
  {
   "cell_type": "markdown",
   "metadata": {},
   "source": [
    "# Dataset Documentation and Description"
   ]
  },
  {
   "cell_type": "code",
   "execution_count": 1,
   "metadata": {},
   "outputs": [],
   "source": [
    "import os\n",
    "import pandas as pd\n",
    "from typing import *  # type: ignore"
   ]
  },
  {
   "cell_type": "code",
   "execution_count": 8,
   "metadata": {},
   "outputs": [
    {
     "name": "stdout",
     "output_type": "stream",
     "text": [
      "Dataset path is correct\n"
     ]
    }
   ],
   "source": [
    "# check if the dataset path is correct\n",
    "DATSET_PATH: str = \"../dataset\"\n",
    "if not os.path.exists(DATSET_PATH):\n",
    "    print(\"Dataset path is not correct\")\n",
    "    exit(1)\n",
    "else:\n",
    "    print(\"Dataset path is correct\")"
   ]
  },
  {
   "cell_type": "code",
   "execution_count": 9,
   "metadata": {},
   "outputs": [
    {
     "name": "stdout",
     "output_type": "stream",
     "text": [
      "Total files found: 24\n"
     ]
    }
   ],
   "source": [
    "# retrieve all file paths inthe dataset folder\n",
    "file_paths: List[str] = []\n",
    "for root, dirs, files in os.walk(DATSET_PATH):\n",
    "    for file in files:\n",
    "        file_paths.append(os.path.join(root, file))\n",
    "assert len(file_paths) == 24, f\"Expected 24 files, but found {len(file_paths)}\"\n",
    "print(f\"Total files found: {len(file_paths)}\")"
   ]
  },
  {
   "cell_type": "code",
   "execution_count": 10,
   "metadata": {},
   "outputs": [
    {
     "data": {
      "text/plain": [
       "['id_blf_correlation_mmsr.tsv',\n",
       " 'id_blf_deltaspectral_mmsr.tsv',\n",
       " 'id_blf_logfluc_mmsr.tsv',\n",
       " 'id_blf_spectralcontrast_mmsr.tsv',\n",
       " 'id_blf_spectral_mmsr.tsv',\n",
       " 'id_blf_vardeltaspectral_mmsr.tsv',\n",
       " 'id_genres_mmsr.tsv',\n",
       " 'id_incp_mmsr.tsv',\n",
       " 'id_information_mmsr.tsv',\n",
       " 'id_ivec1024_mmsr.tsv',\n",
       " 'id_ivec256_mmsr.tsv',\n",
       " 'id_ivec512_mmsr.tsv',\n",
       " 'id_lyrics_bert_mmsr.tsv',\n",
       " 'id_lyrics_tf-idf_mmsr.tsv',\n",
       " 'id_lyrics_word2vec_mmsr.tsv',\n",
       " 'id_metadata_mmsr.tsv',\n",
       " 'id_mfcc_bow_mmsr.tsv',\n",
       " 'id_mfcc_stats_mmsr.tsv',\n",
       " 'id_musicnn_mmsr.tsv',\n",
       " 'id_resnet_mmsr.tsv',\n",
       " 'id_tags_dict.tsv',\n",
       " 'id_total_listens.tsv',\n",
       " 'id_url_mmsr.tsv',\n",
       " 'id_vgg19_mmsr.tsv']"
      ]
     },
     "execution_count": 10,
     "metadata": {},
     "output_type": "execute_result"
    }
   ],
   "source": [
    "# get filenames\n",
    "filenames: List[str] = [os.path.basename(file) for file in file_paths]\n",
    "filenames"
   ]
  },
  {
   "cell_type": "code",
   "execution_count": 11,
   "metadata": {},
   "outputs": [],
   "source": [
    "# inspect the \".\\dataset\\id_information_mmsr.tsv\" file\n",
    "id_information_mmsr_file = os.path.join(DATSET_PATH, \"id_information_mmsr.tsv\")\n",
    "assert os.path.exists(id_information_mmsr_file), f\"{id_information_mmsr_file} not found\"\n",
    "\n",
    "# read in the tsv file\n",
    "base_infos: pd.DataFrame = pd.read_csv(id_information_mmsr_file, sep=\"\\t\")  # type: ignore"
   ]
  },
  {
   "cell_type": "code",
   "execution_count": 12,
   "metadata": {},
   "outputs": [
    {
     "data": {
      "text/html": [
       "<div>\n",
       "<style scoped>\n",
       "    .dataframe tbody tr th:only-of-type {\n",
       "        vertical-align: middle;\n",
       "    }\n",
       "\n",
       "    .dataframe tbody tr th {\n",
       "        vertical-align: top;\n",
       "    }\n",
       "\n",
       "    .dataframe thead th {\n",
       "        text-align: right;\n",
       "    }\n",
       "</style>\n",
       "<table border=\"1\" class=\"dataframe\">\n",
       "  <thead>\n",
       "    <tr style=\"text-align: right;\">\n",
       "      <th></th>\n",
       "      <th>id</th>\n",
       "      <th>artist</th>\n",
       "      <th>song</th>\n",
       "      <th>album_name</th>\n",
       "    </tr>\n",
       "  </thead>\n",
       "  <tbody>\n",
       "    <tr>\n",
       "      <th>0</th>\n",
       "      <td>01rMxQv6vhyE1oQX</td>\n",
       "      <td>Against the Current</td>\n",
       "      <td>Chasing Ghosts</td>\n",
       "      <td>In Our Bones</td>\n",
       "    </tr>\n",
       "    <tr>\n",
       "      <th>1</th>\n",
       "      <td>02ZnlCGZEbkfCDxo</td>\n",
       "      <td>Laura Pausini</td>\n",
       "      <td>Tra Te E Il Mare</td>\n",
       "      <td>The Best of Laura Pausini - E Ritorno Da Te</td>\n",
       "    </tr>\n",
       "    <tr>\n",
       "      <th>2</th>\n",
       "      <td>04OjszRi9rC5BlHC</td>\n",
       "      <td>Grizzly Bear</td>\n",
       "      <td>Knife</td>\n",
       "      <td>Yellow House</td>\n",
       "    </tr>\n",
       "    <tr>\n",
       "      <th>3</th>\n",
       "      <td>04iitW3ffa0mhpx3</td>\n",
       "      <td>Ne-Yo</td>\n",
       "      <td>Miss Independent</td>\n",
       "      <td>Year Of The Gentleman (Bonus Track Edition)</td>\n",
       "    </tr>\n",
       "    <tr>\n",
       "      <th>4</th>\n",
       "      <td>04xUDjAYC14jsHyH</td>\n",
       "      <td>Jawbreaker</td>\n",
       "      <td>Jinx Removing</td>\n",
       "      <td>24 Hour Revenge Therapy (Remastered)</td>\n",
       "    </tr>\n",
       "  </tbody>\n",
       "</table>\n",
       "</div>"
      ],
      "text/plain": [
       "                 id               artist              song  \\\n",
       "0  01rMxQv6vhyE1oQX  Against the Current    Chasing Ghosts   \n",
       "1  02ZnlCGZEbkfCDxo        Laura Pausini  Tra Te E Il Mare   \n",
       "2  04OjszRi9rC5BlHC         Grizzly Bear             Knife   \n",
       "3  04iitW3ffa0mhpx3                Ne-Yo  Miss Independent   \n",
       "4  04xUDjAYC14jsHyH           Jawbreaker     Jinx Removing   \n",
       "\n",
       "                                    album_name  \n",
       "0                                 In Our Bones  \n",
       "1  The Best of Laura Pausini - E Ritorno Da Te  \n",
       "2                                 Yellow House  \n",
       "3  Year Of The Gentleman (Bonus Track Edition)  \n",
       "4         24 Hour Revenge Therapy (Remastered)  "
      ]
     },
     "execution_count": 12,
     "metadata": {},
     "output_type": "execute_result"
    }
   ],
   "source": [
    "base_infos.head()"
   ]
  },
  {
   "cell_type": "code",
   "execution_count": 13,
   "metadata": {},
   "outputs": [],
   "source": [
    "# inspect the \".\\dataset\\id_lyrics_tf-idf_mmsr.tsv\" file\n",
    "id_lyrics_tf_idf_mmsr_file = os.path.join(DATSET_PATH, \"id_lyrics_tf-idf_mmsr.tsv\")\n",
    "assert os.path.exists(id_lyrics_tf_idf_mmsr_file), f\"{id_lyrics_tf_idf_mmsr_file} not found\"\n",
    "\n",
    "# read in the tsv file\n",
    "lyrics_tf_idf: pd.DataFrame = pd.read_csv(id_lyrics_tf_idf_mmsr_file, sep=\"\\t\")  # type: ignore"
   ]
  },
  {
   "cell_type": "code",
   "execution_count": 14,
   "metadata": {},
   "outputs": [
    {
     "data": {
      "text/html": [
       "<div>\n",
       "<style scoped>\n",
       "    .dataframe tbody tr th:only-of-type {\n",
       "        vertical-align: middle;\n",
       "    }\n",
       "\n",
       "    .dataframe tbody tr th {\n",
       "        vertical-align: top;\n",
       "    }\n",
       "\n",
       "    .dataframe thead th {\n",
       "        text-align: right;\n",
       "    }\n",
       "</style>\n",
       "<table border=\"1\" class=\"dataframe\">\n",
       "  <thead>\n",
       "    <tr style=\"text-align: right;\">\n",
       "      <th></th>\n",
       "      <th>id</th>\n",
       "      <th>abl</th>\n",
       "      <th>accept</th>\n",
       "      <th>across</th>\n",
       "      <th>act</th>\n",
       "      <th>addict</th>\n",
       "      <th>afraid</th>\n",
       "      <th>age</th>\n",
       "      <th>ago</th>\n",
       "      <th>ah</th>\n",
       "      <th>...</th>\n",
       "      <th>yea</th>\n",
       "      <th>yeah</th>\n",
       "      <th>year</th>\n",
       "      <th>yellow</th>\n",
       "      <th>yes</th>\n",
       "      <th>yesterday</th>\n",
       "      <th>yet</th>\n",
       "      <th>yo</th>\n",
       "      <th>young</th>\n",
       "      <th>youth</th>\n",
       "    </tr>\n",
       "  </thead>\n",
       "  <tbody>\n",
       "    <tr>\n",
       "      <th>0</th>\n",
       "      <td>h48f46ZsT9h0Z5Dm</td>\n",
       "      <td>0.0</td>\n",
       "      <td>0.0</td>\n",
       "      <td>0.000000</td>\n",
       "      <td>0.0</td>\n",
       "      <td>0.0</td>\n",
       "      <td>0.000000</td>\n",
       "      <td>0.0</td>\n",
       "      <td>0.000000</td>\n",
       "      <td>0.0</td>\n",
       "      <td>...</td>\n",
       "      <td>0.0</td>\n",
       "      <td>0.000000</td>\n",
       "      <td>0.0</td>\n",
       "      <td>0.0</td>\n",
       "      <td>0.0</td>\n",
       "      <td>0.149783</td>\n",
       "      <td>0.0</td>\n",
       "      <td>0.0</td>\n",
       "      <td>0.0</td>\n",
       "      <td>0.0</td>\n",
       "    </tr>\n",
       "    <tr>\n",
       "      <th>1</th>\n",
       "      <td>PV5EXN6AIVBqvsLO</td>\n",
       "      <td>0.0</td>\n",
       "      <td>0.0</td>\n",
       "      <td>0.000000</td>\n",
       "      <td>0.0</td>\n",
       "      <td>0.0</td>\n",
       "      <td>0.327025</td>\n",
       "      <td>0.0</td>\n",
       "      <td>0.000000</td>\n",
       "      <td>0.0</td>\n",
       "      <td>...</td>\n",
       "      <td>0.0</td>\n",
       "      <td>0.000000</td>\n",
       "      <td>0.0</td>\n",
       "      <td>0.0</td>\n",
       "      <td>0.0</td>\n",
       "      <td>0.000000</td>\n",
       "      <td>0.0</td>\n",
       "      <td>0.0</td>\n",
       "      <td>0.0</td>\n",
       "      <td>0.0</td>\n",
       "    </tr>\n",
       "    <tr>\n",
       "      <th>2</th>\n",
       "      <td>eFEY5JiDF3ZLpXBZ</td>\n",
       "      <td>0.0</td>\n",
       "      <td>0.0</td>\n",
       "      <td>0.143314</td>\n",
       "      <td>0.0</td>\n",
       "      <td>0.0</td>\n",
       "      <td>0.000000</td>\n",
       "      <td>0.0</td>\n",
       "      <td>0.000000</td>\n",
       "      <td>0.0</td>\n",
       "      <td>...</td>\n",
       "      <td>0.0</td>\n",
       "      <td>0.042526</td>\n",
       "      <td>0.0</td>\n",
       "      <td>0.0</td>\n",
       "      <td>0.0</td>\n",
       "      <td>0.000000</td>\n",
       "      <td>0.0</td>\n",
       "      <td>0.0</td>\n",
       "      <td>0.0</td>\n",
       "      <td>0.0</td>\n",
       "    </tr>\n",
       "    <tr>\n",
       "      <th>3</th>\n",
       "      <td>VAWiymoCIYxhae3J</td>\n",
       "      <td>0.0</td>\n",
       "      <td>0.0</td>\n",
       "      <td>0.000000</td>\n",
       "      <td>0.0</td>\n",
       "      <td>0.0</td>\n",
       "      <td>0.000000</td>\n",
       "      <td>0.0</td>\n",
       "      <td>0.109514</td>\n",
       "      <td>0.0</td>\n",
       "      <td>...</td>\n",
       "      <td>0.0</td>\n",
       "      <td>0.000000</td>\n",
       "      <td>0.0</td>\n",
       "      <td>0.0</td>\n",
       "      <td>0.0</td>\n",
       "      <td>0.000000</td>\n",
       "      <td>0.0</td>\n",
       "      <td>0.0</td>\n",
       "      <td>0.0</td>\n",
       "      <td>0.0</td>\n",
       "    </tr>\n",
       "    <tr>\n",
       "      <th>4</th>\n",
       "      <td>2H91WLAd7ZZJvAiw</td>\n",
       "      <td>0.0</td>\n",
       "      <td>0.0</td>\n",
       "      <td>0.000000</td>\n",
       "      <td>0.0</td>\n",
       "      <td>0.0</td>\n",
       "      <td>0.000000</td>\n",
       "      <td>0.0</td>\n",
       "      <td>0.000000</td>\n",
       "      <td>0.0</td>\n",
       "      <td>...</td>\n",
       "      <td>0.0</td>\n",
       "      <td>0.084732</td>\n",
       "      <td>0.0</td>\n",
       "      <td>0.0</td>\n",
       "      <td>0.0</td>\n",
       "      <td>0.000000</td>\n",
       "      <td>0.0</td>\n",
       "      <td>0.0</td>\n",
       "      <td>0.0</td>\n",
       "      <td>0.0</td>\n",
       "    </tr>\n",
       "  </tbody>\n",
       "</table>\n",
       "<p>5 rows × 1001 columns</p>\n",
       "</div>"
      ],
      "text/plain": [
       "                 id  abl  accept    across  act  addict    afraid  age  \\\n",
       "0  h48f46ZsT9h0Z5Dm  0.0     0.0  0.000000  0.0     0.0  0.000000  0.0   \n",
       "1  PV5EXN6AIVBqvsLO  0.0     0.0  0.000000  0.0     0.0  0.327025  0.0   \n",
       "2  eFEY5JiDF3ZLpXBZ  0.0     0.0  0.143314  0.0     0.0  0.000000  0.0   \n",
       "3  VAWiymoCIYxhae3J  0.0     0.0  0.000000  0.0     0.0  0.000000  0.0   \n",
       "4  2H91WLAd7ZZJvAiw  0.0     0.0  0.000000  0.0     0.0  0.000000  0.0   \n",
       "\n",
       "        ago   ah  ...  yea      yeah  year  yellow  yes  yesterday  yet   yo  \\\n",
       "0  0.000000  0.0  ...  0.0  0.000000   0.0     0.0  0.0   0.149783  0.0  0.0   \n",
       "1  0.000000  0.0  ...  0.0  0.000000   0.0     0.0  0.0   0.000000  0.0  0.0   \n",
       "2  0.000000  0.0  ...  0.0  0.042526   0.0     0.0  0.0   0.000000  0.0  0.0   \n",
       "3  0.109514  0.0  ...  0.0  0.000000   0.0     0.0  0.0   0.000000  0.0  0.0   \n",
       "4  0.000000  0.0  ...  0.0  0.084732   0.0     0.0  0.0   0.000000  0.0  0.0   \n",
       "\n",
       "   young  youth  \n",
       "0    0.0    0.0  \n",
       "1    0.0    0.0  \n",
       "2    0.0    0.0  \n",
       "3    0.0    0.0  \n",
       "4    0.0    0.0  \n",
       "\n",
       "[5 rows x 1001 columns]"
      ]
     },
     "execution_count": 14,
     "metadata": {},
     "output_type": "execute_result"
    }
   ],
   "source": [
    "lyrics_tf_idf.head()"
   ]
  },
  {
   "cell_type": "code",
   "execution_count": 15,
   "metadata": {},
   "outputs": [
    {
     "data": {
      "text/plain": [
       "['rock', 'pop punk']"
      ]
     },
     "execution_count": 15,
     "metadata": {},
     "output_type": "execute_result"
    }
   ],
   "source": [
    "# inpect the genre file\n",
    "genre_file = os.path.join(DATSET_PATH, \"id_genres_mmsr.tsv\")\n",
    "assert os.path.exists(genre_file), f\"{genre_file} not found\"\n",
    "\n",
    "# read in the tsv file and convert the \"genre\" column to a list on read_csv\n",
    "genres: pd.DataFrame = pd.read_csv(genre_file, sep=\"\\t\", converters={\"genre\": eval})  # type: ignore\n",
    "genres[\"genre\"][0]\n"
   ]
  },
  {
   "cell_type": "code",
   "execution_count": 16,
   "metadata": {},
   "outputs": [
    {
     "data": {
      "text/plain": [
       "(5148, 1000)"
      ]
     },
     "execution_count": 16,
     "metadata": {},
     "output_type": "execute_result"
    }
   ],
   "source": [
    "# inpect id_lyrics_tf-idf_mmsr.tsv file\n",
    "id_lyrics_tf_idf_mmsr_file = os.path.join(DATSET_PATH, \"id_lyrics_tf-idf_mmsr.tsv\")\n",
    "assert os.path.exists(id_lyrics_tf_idf_mmsr_file), f\"{id_lyrics_tf_idf_mmsr_file} not found\"\n",
    "\n",
    "# read in the tsv file\n",
    "lyrics_tf_idf: pd.DataFrame = pd.read_csv(id_lyrics_tf_idf_mmsr_file, sep=\"\\t\")  # type: ignore\n",
    "\n",
    "# create a numpy array from the tf-idf values\n",
    "lyrics_tf_idf_values: pd.DataFrame = lyrics_tf_idf.drop(columns=[\"id\"])\n",
    "lyrics_tf_idf_values = lyrics_tf_idf_values.to_numpy()\n",
    "lyrics_tf_idf_values.shape"
   ]
  },
  {
   "cell_type": "code",
   "execution_count": null,
   "metadata": {},
   "outputs": [
    {
     "name": "stdout",
     "output_type": "stream",
     "text": [
      "Columns in the file: Index(['id', '0', '1', '2', '3', '4', '5', '6', '7', '8',\n",
      "       ...\n",
      "       '758', '759', '760', '761', '762', '763', '764', '765', '766', '767'],\n",
      "      dtype='object', length=769)\n"
     ]
    }
   ],
   "source": [
    "import pandas as pd\n",
    "\n",
    "# Path to your file\n",
    "file_path = \"D:/JKU/MMSR/MMSR-project/dataset/id_lyrics_bert_mmsr.tsv\"\n",
    "\n",
    "# Load the file\n",
    "df = pd.read_csv(file_path, sep=\"\\t\")\n",
    "\n",
    "# Print the column names\n",
    "print(\"Columns in the file:\", df.columns)"
   ]
  }
 ],
 "metadata": {
  "kernelspec": {
   "display_name": "Python 3",
   "language": "python",
   "name": "python3"
  },
  "language_info": {
   "codemirror_mode": {
    "name": "ipython",
    "version": 3
   },
   "file_extension": ".py",
   "mimetype": "text/x-python",
   "name": "python",
   "nbconvert_exporter": "python",
   "pygments_lexer": "ipython3",
   "version": "3.11.9"
  }
 },
 "nbformat": 4,
 "nbformat_minor": 2
}
