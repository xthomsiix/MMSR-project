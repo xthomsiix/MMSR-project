{
 "cells": [
  {
   "cell_type": "code",
   "execution_count": 6,
   "metadata": {},
   "outputs": [],
   "source": [
    "import httpx\n",
    "import zipfile\n",
    "import tqdm"
   ]
  },
  {
   "cell_type": "code",
   "execution_count": 7,
   "metadata": {},
   "outputs": [],
   "source": [
    "url: str = \"https://cloud.cp.jku.at/index.php/s/RbAxYet7cQZ5LYz/download/MMSR_WS2024_dataset.zip\""
   ]
  },
  {
   "cell_type": "code",
   "execution_count": 8,
   "metadata": {},
   "outputs": [
    {
     "data": {
      "application/vnd.jupyter.widget-view+json": {
       "model_id": "e2847e36733e4864860472cb9a395051",
       "version_major": 2,
       "version_minor": 0
      },
      "text/plain": [
       "0it [00:00, ?it/s]"
      ]
     },
     "metadata": {},
     "output_type": "display_data"
    }
   ],
   "source": [
    "with httpx.Client() as client:\n",
    "    with client.stream(\"GET\", url) as response:\n",
    "        total_file_size: int = int(int(response.headers.get(\"content-length\"))/1024/16)\n",
    "        with open(\"dataset.zip\", \"wb\") as f:\n",
    "            for chunk in tqdm.notebook.tqdm(response.iter_bytes(), total=total_file_size):\n",
    "                f.write(chunk)"
   ]
  },
  {
   "cell_type": "code",
   "execution_count": 26,
   "metadata": {},
   "outputs": [],
   "source": [
    "path: str = \".\"\n",
    "with zipfile.ZipFile(\"dataset.zip\", \"r\") as zip_ref:\n",
    "    zip_ref.extractall(path)"
   ]
  }
 ],
 "metadata": {
  "kernelspec": {
   "display_name": ".venv",
   "language": "python",
   "name": "python3"
  },
  "language_info": {
   "codemirror_mode": {
    "name": "ipython",
    "version": 3
   },
   "file_extension": ".py",
   "mimetype": "text/x-python",
   "name": "python",
   "nbconvert_exporter": "python",
   "pygments_lexer": "ipython3",
   "version": "3.11.9"
  }
 },
 "nbformat": 4,
 "nbformat_minor": 2
}
